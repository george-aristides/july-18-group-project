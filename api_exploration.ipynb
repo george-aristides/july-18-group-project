{
 "cells": [
  {
   "cell_type": "code",
   "execution_count": 10,
   "id": "8d173d0e",
   "metadata": {},
   "outputs": [],
   "source": [
    "# Import dependencies\n",
    "import requests\n",
    "import json\n",
    "import pandas as pd\n",
    "import datetime"
   ]
  },
  {
   "cell_type": "code",
   "execution_count": 48,
   "id": "7b575230-7581-400e-96bf-430ad3241d88",
   "metadata": {},
   "outputs": [
    {
     "name": "stdin",
     "output_type": "stream",
     "text": [
      "What city?  Berlin\n"
     ]
    },
    {
     "name": "stdout",
     "output_type": "stream",
     "text": [
      "The latitude information received is: [52.5244]\n",
      "The longitude information received is: [13.4105]\n",
      "The temperature information received is: [16.29]\n",
      "The humidity information received is: [88]\n",
      "The wind speed information received is: [0.51]\n"
     ]
    }
   ],
   "source": [
    "wapi_key = '445863b39b2c895f36c6d3deb7264c5f'\n",
    "\n",
    "url = \"http://api.openweathermap.org/data/2.5/weather?\"\n",
    "units = \"metric\"\n",
    "\n",
    "# Build partial query URL\n",
    "query_url = f\"{url}appid={wapi_key}&units={units}&q=\"\n",
    "\n",
    "city = input('What city? ')\n",
    "\n",
    "# set up lists to hold reponse info for:\n",
    "# latitude, longitude, temp, humidity, and wind speed\n",
    "lat = []\n",
    "lon = []\n",
    "temp = []\n",
    "humidity = []\n",
    "wind = []\n",
    "\n",
    "# Loop through the list of cities and perform a request for data on each\n",
    "try:\n",
    "    response = requests.get(query_url + city).json()\n",
    "    lat.append(response['coord']['lat'])\n",
    "    lon.append(response['coord']['lon'])\n",
    "    temp.append(response['main']['temp'])\n",
    "    humidity.append(response['main']['humidity'])\n",
    "    wind.append(response['wind']['speed'])\n",
    "\n",
    "    current_temp = temp[0]\n",
    "\n",
    "\n",
    "    print(f\"The latitude information received is: {lat}\")\n",
    "    print(f\"The longitude information received is: {lon}\")\n",
    "    print(f\"The temperature information received is: {temp}\")\n",
    "    print(f\"The humidity information received is: {humidity}\")\n",
    "    print(f\"The wind speed information received is: {wind}\")\n",
    "\n",
    "except:\n",
    "    print(\"City does not exist\")\n"
   ]
  },
  {
   "cell_type": "code",
   "execution_count": 42,
   "id": "0e766f30-a9d0-40a3-bbbd-880d4d3f2c10",
   "metadata": {},
   "outputs": [
    {
     "name": "stdout",
     "output_type": "stream",
     "text": [
      "\"Bodhana Sivanandan, a fourth-grader, has become one of England\\u2019s best players just a few years after discovering chess during pandemic lockdown.\"\n"
     ]
    }
   ],
   "source": [
    "\n",
    "\n",
    "api_key = 'a6dDcvdk7yBatG4Pm3r20Kb0gZqnuPSS'\n",
    "# New York Times Article API URL\n",
    "url = \"https://api.nytimes.com/svc/search/v2/articlesearch.json?\"\n",
    "\n",
    "# Assuming 'city' is taken as input from the user\n",
    "\n",
    "\n",
    "# Get today's date in the format YYYYMMDD\n",
    "today = datetime.datetime.today().strftime('%Y%m%d')\n",
    "\n",
    "# Build URL\n",
    "\n",
    "query_url = f\"{url}api-key={api_key}&q={city}&begin_date={today}&end_date={today}\"\n",
    "\n",
    "\n",
    "\n",
    "\n",
    "# Request articles\n",
    "articles = requests.get(query_url).json()\n",
    "# The \"response\" property in articles contains the actual articles\n",
    "# list comprehension.\n",
    "articles_list = articles[\"response\"][\"docs\"][0][\"snippet\"]\n",
    "print(json.dumps(articles_list, indent=4))"
   ]
  },
  {
   "cell_type": "code",
   "execution_count": null,
   "id": "a6c872c1-b997-4707-a997-b4a43b366444",
   "metadata": {},
   "outputs": [],
   "source": []
  }
 ],
 "metadata": {
  "kernelspec": {
   "display_name": "Python 3 (ipykernel)",
   "language": "python",
   "name": "python3"
  },
  "language_info": {
   "codemirror_mode": {
    "name": "ipython",
    "version": 3
   },
   "file_extension": ".py",
   "mimetype": "text/x-python",
   "name": "python",
   "nbconvert_exporter": "python",
   "pygments_lexer": "ipython3",
   "version": "3.11.7"
  }
 },
 "nbformat": 4,
 "nbformat_minor": 5
}
